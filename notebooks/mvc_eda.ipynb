{
 "cells": [
  {
   "cell_type": "code",
   "execution_count": 1,
   "metadata": {},
   "outputs": [
    {
     "data": {
      "text/plain": [
       "'/home/twoaday/research/deep-learning/visual-fashion-item-search'"
      ]
     },
     "execution_count": 1,
     "metadata": {},
     "output_type": "execute_result"
    }
   ],
   "source": [
    "%matplotlib inline\n",
    "import os\n",
    "os.chdir(\"..\")\n",
    "os.getcwd()"
   ]
  },
  {
   "cell_type": "code",
   "execution_count": 11,
   "metadata": {},
   "outputs": [],
   "source": [
    "import glob\n",
    "\n",
    "import pandas as pd\n",
    "from tqdm import tqdm_notebook\n",
    "\n",
    "import logging\n",
    "from commons.config import MVC_INFO_PATH, MVC_IMAGES_FOLDER"
   ]
  },
  {
   "cell_type": "code",
   "execution_count": 12,
   "metadata": {},
   "outputs": [
    {
     "name": "stderr",
     "output_type": "stream",
     "text": [
      "2019-09-08 09:09:10,932 : INFO : Found 23193 products\n"
     ]
    },
    {
     "data": {
      "application/vnd.jupyter.widget-view+json": {
       "model_id": "65531fd7cca347678f81e7085e86d3a1",
       "version_major": 2,
       "version_minor": 0
      },
      "text/plain": [
       "HBox(children=(IntProgress(value=0, description='Parsing available image files', max=156274, style=ProgressSty…"
      ]
     },
     "metadata": {},
     "output_type": "display_data"
    },
    {
     "name": "stdout",
     "output_type": "stream",
     "text": [
      "\n"
     ]
    }
   ],
   "source": [
    "data_set = []\n",
    "df_mvc_info = pd.read_json(MVC_INFO_PATH)\n",
    "product_ids = df_mvc_info.productId.unique().tolist()\n",
    "logging.info('Found {0} products'.format(len(product_ids)))\n",
    "available_image_list = glob.glob(\"{0}*.jpg\".format(MVC_IMAGES_FOLDER))\n",
    "available_image_list = [x.split('/')[-1] for x in tqdm_notebook(available_image_list,\n",
    "                                                    desc='Parsing available image files')]"
   ]
  },
  {
   "cell_type": "code",
   "execution_count": 13,
   "metadata": {},
   "outputs": [
    {
     "data": {
      "text/plain": [
       "brandId                 161260\n",
       "brandName               161260\n",
       "catNum                  161260\n",
       "category                161260\n",
       "colourId                161260\n",
       "colourName              161260\n",
       "image_4x_height         161260\n",
       "image_4x_width          161260\n",
       "image_url_2x            161260\n",
       "image_url_4x            161260\n",
       "image_url_multiView     161260\n",
       "image_url_thumbnails    161260\n",
       "price                   161260\n",
       "productGender           161260\n",
       "productId               161260\n",
       "productName             161260\n",
       "productTypeId           161260\n",
       "styleId                 161260\n",
       "subCategory1            161260\n",
       "subCategory2            161260\n",
       "total_style             161260\n",
       "viewId                  161260\n",
       "zetaCategory            161260\n",
       "dtype: int64"
      ]
     },
     "execution_count": 13,
     "metadata": {},
     "output_type": "execute_result"
    }
   ],
   "source": [
    "df_mvc_info.count()"
   ]
  },
  {
   "cell_type": "code",
   "execution_count": 15,
   "metadata": {},
   "outputs": [
    {
     "data": {
      "text/plain": [
       "156274"
      ]
     },
     "execution_count": 15,
     "metadata": {},
     "output_type": "execute_result"
    }
   ],
   "source": [
    "len(available_image_list)"
   ]
  },
  {
   "cell_type": "code",
   "execution_count": 16,
   "metadata": {},
   "outputs": [
    {
     "data": {
      "text/plain": [
       "'3447672-3-2x.jpg'"
      ]
     },
     "execution_count": 16,
     "metadata": {},
     "output_type": "execute_result"
    }
   ],
   "source": [
    "available_image_list[0]"
   ]
  },
  {
   "cell_type": "code",
   "execution_count": 21,
   "metadata": {},
   "outputs": [
    {
     "data": {
      "application/vnd.jupyter.widget-view+json": {
       "model_id": "d025a949277640dc9930b50edbb501d5",
       "version_major": 2,
       "version_minor": 0
      },
      "text/plain": [
       "HBox(children=(IntProgress(value=0, description='Parsing files', max=161260, style=ProgressStyle(description_w…"
      ]
     },
     "metadata": {},
     "output_type": "display_data"
    },
    {
     "data": {
      "text/html": [
       "<div>\n",
       "<style scoped>\n",
       "    .dataframe tbody tr th:only-of-type {\n",
       "        vertical-align: middle;\n",
       "    }\n",
       "\n",
       "    .dataframe tbody tr th {\n",
       "        vertical-align: top;\n",
       "    }\n",
       "\n",
       "    .dataframe thead th {\n",
       "        text-align: right;\n",
       "    }\n",
       "</style>\n",
       "<table border=\"1\" class=\"dataframe\">\n",
       "  <thead>\n",
       "    <tr style=\"text-align: right;\">\n",
       "      <th></th>\n",
       "      <th>name</th>\n",
       "      <th>product</th>\n",
       "      <th>category</th>\n",
       "      <th>file</th>\n",
       "    </tr>\n",
       "  </thead>\n",
       "  <tbody>\n",
       "    <tr>\n",
       "      <th>0</th>\n",
       "      <td>3163710-p-2x.jpg</td>\n",
       "      <td>mvc_\"Apex Bionic Jacket\"</td>\n",
       "      <td>\"Coats &amp; Outerwear\"</td>\n",
       "      <td>/run/media/twoaday/data-storag/data-sets/multi...</td>\n",
       "    </tr>\n",
       "    <tr>\n",
       "      <th>1</th>\n",
       "      <td>3163710-1-2x.jpg</td>\n",
       "      <td>mvc_\"Apex Bionic Jacket\"</td>\n",
       "      <td>\"Coats &amp; Outerwear\"</td>\n",
       "      <td>/run/media/twoaday/data-storag/data-sets/multi...</td>\n",
       "    </tr>\n",
       "    <tr>\n",
       "      <th>2</th>\n",
       "      <td>3163710-2-2x.jpg</td>\n",
       "      <td>mvc_\"Apex Bionic Jacket\"</td>\n",
       "      <td>\"Coats &amp; Outerwear\"</td>\n",
       "      <td>/run/media/twoaday/data-storag/data-sets/multi...</td>\n",
       "    </tr>\n",
       "    <tr>\n",
       "      <th>3</th>\n",
       "      <td>3163710-3-2x.jpg</td>\n",
       "      <td>mvc_\"Apex Bionic Jacket\"</td>\n",
       "      <td>\"Coats &amp; Outerwear\"</td>\n",
       "      <td>/run/media/twoaday/data-storag/data-sets/multi...</td>\n",
       "    </tr>\n",
       "    <tr>\n",
       "      <th>4</th>\n",
       "      <td>3163710-4-2x.jpg</td>\n",
       "      <td>mvc_\"Apex Bionic Jacket\"</td>\n",
       "      <td>\"Coats &amp; Outerwear\"</td>\n",
       "      <td>/run/media/twoaday/data-storag/data-sets/multi...</td>\n",
       "    </tr>\n",
       "  </tbody>\n",
       "</table>\n",
       "</div>"
      ],
      "text/plain": [
       "               name                   product             category  \\\n",
       "0  3163710-p-2x.jpg  mvc_\"Apex Bionic Jacket\"  \"Coats & Outerwear\"   \n",
       "1  3163710-1-2x.jpg  mvc_\"Apex Bionic Jacket\"  \"Coats & Outerwear\"   \n",
       "2  3163710-2-2x.jpg  mvc_\"Apex Bionic Jacket\"  \"Coats & Outerwear\"   \n",
       "3  3163710-3-2x.jpg  mvc_\"Apex Bionic Jacket\"  \"Coats & Outerwear\"   \n",
       "4  3163710-4-2x.jpg  mvc_\"Apex Bionic Jacket\"  \"Coats & Outerwear\"   \n",
       "\n",
       "                                                file  \n",
       "0  /run/media/twoaday/data-storag/data-sets/multi...  \n",
       "1  /run/media/twoaday/data-storag/data-sets/multi...  \n",
       "2  /run/media/twoaday/data-storag/data-sets/multi...  \n",
       "3  /run/media/twoaday/data-storag/data-sets/multi...  \n",
       "4  /run/media/twoaday/data-storag/data-sets/multi...  "
      ]
     },
     "execution_count": 21,
     "metadata": {},
     "output_type": "execute_result"
    }
   ],
   "source": [
    "df_data_set = []\n",
    "available_image_list = set(available_image_list)\n",
    "for _, row in tqdm_notebook(df_mvc_info.iterrows(), desc='Parsing files', total=len(df_mvc_info)):\n",
    "    file_name = row['image_url_2x'].split('/')[-1]\n",
    "    if file_name in available_image_list:\n",
    "        df_data_set.append([file_name,\n",
    "                            'mvc_' + row['productName'], \n",
    "                            row['category'],\n",
    "                            MVC_IMAGES_FOLDER + file_name])\n",
    "df_data_set = pd.DataFrame(df_data_set)\n",
    "df_data_set.columns = ['name', 'product', 'category', 'file']\n",
    "df_data_set.head()"
   ]
  },
  {
   "cell_type": "code",
   "execution_count": 22,
   "metadata": {},
   "outputs": [
    {
     "data": {
      "text/plain": [
       "<matplotlib.axes._subplots.AxesSubplot at 0x7f8a07ac8f28>"
      ]
     },
     "execution_count": 22,
     "metadata": {},
     "output_type": "execute_result"
    },
    {
     "data": {
      "image/png": "[encoded data removed]",
      "text/plain": [
       "<Figure size 720x720 with 1 Axes>"
      ]
     },
     "metadata": {},
     "output_type": "display_data"
    }
   ],
   "source": [
    "df_data_set.groupby('category').count().plot.pie('name', figsize=(10, 10))"
   ]
  },
  {
   "cell_type": "code",
   "execution_count": 23,
   "metadata": {},
   "outputs": [
    {
     "data": {
      "text/plain": [
       "name        156326\n",
       "product     156326\n",
       "category    156326\n",
       "file        156326\n",
       "dtype: int64"
      ]
     },
     "execution_count": 23,
     "metadata": {},
     "output_type": "execute_result"
    }
   ],
   "source": [
    "df_data_set.count()"
   ]
  },
  {
   "cell_type": "code",
   "execution_count": 24,
   "metadata": {},
   "outputs": [
    {
     "data": {
      "text/plain": [
       "22267"
      ]
     },
     "execution_count": 24,
     "metadata": {},
     "output_type": "execute_result"
    }
   ],
   "source": [
    "df_data_set.groupby('product').count().name.count()"
   ]
  },
  {
   "cell_type": "code",
   "execution_count": null,
   "metadata": {},
   "outputs": [],
   "source": []
  }
 ],
 "metadata": {
  "kernelspec": {
   "display_name": "Python 3",
   "language": "python",
   "name": "python3"
  },
  "language_info": {
   "codemirror_mode": {
    "name": "ipython",
    "version": 3
   },
   "file_extension": ".py",
   "mimetype": "text/x-python",
   "name": "python",
   "nbconvert_exporter": "python",
   "pygments_lexer": "ipython3",
   "version": "3.6.5"
  }
 },
 "nbformat": 4,
 "nbformat_minor": 2
}
