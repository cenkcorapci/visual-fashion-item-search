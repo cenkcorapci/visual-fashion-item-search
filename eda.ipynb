{
 "cells": [
  {
   "cell_type": "code",
   "execution_count": 1,
   "metadata": {},
   "outputs": [
    {
     "name": "stderr",
     "output_type": "stream",
     "text": [
      "2019-06-15 14:59:10,737 : INFO : Checking directories...\n",
      "2019-06-15 14:59:10,737 : INFO : Directories are set.\n",
      "Using TensorFlow backend.\n"
     ]
    }
   ],
   "source": [
    "import logging\n",
    "import pickle\n",
    "\n",
    "import numpy as np\n",
    "import pandas as pd\n",
    "from sklearn.decomposition import PCA\n",
    "from tqdm import tqdm_notebook\n",
    "from IPython.core.display import Image, display\n",
    "from random import randint\n",
    "\n",
    "\n",
    "from commons.config import CIMRI_CSV, DIM_RED_MODEL_PATH\n",
    "from feature_extraction.image_vectorization import ImageVectorizationModel, ImageClassificationModel\n",
    "from scipy import spatial\n",
    "import random"
   ]
  },
  {
   "cell_type": "markdown",
   "metadata": {},
   "source": [
    "### Get Data"
   ]
  },
  {
   "cell_type": "code",
   "execution_count": 2,
   "metadata": {},
   "outputs": [
    {
     "name": "stderr",
     "output_type": "stream",
     "text": [
      "/usr/lib/python3.6/site-packages/ipykernel_launcher.py:8: UserWarning: This pattern has match groups. To actually get the groups, use str.extract.\n",
      "  \n"
     ]
    }
   ],
   "source": [
    "df = pd.read_csv(CIMRI_CSV, error_bad_lines=False)\n",
    "df = df.drop(columns=['Unnamed: 0'])\n",
    "df = df.loc[df.isSame == 1]\n",
    "df = df.drop(columns=['offerId', 'isSame', 'secondProduct'])\n",
    "df = df.dropna()\n",
    "fashion_categories = df.loc[df.firstProduct.str.contains(\n",
    "    '(gozluk|takim|kolye|kupe|bilezik|bere|atki|sapka|pijama|corap|cizme|kemer|kulaklik|eldiven|sal|sort|mont|bandana|polar|fular|esarp|yelek|gomlek|sweatshirt|ceket|pardesu|palto|saat|ayakkabi|t-shirt|elbise|canta|bluz|pantalon|jean|etek|kolye)',\n",
    "    regex=True)]\n",
    "fashion_categories = fashion_categories.categoryIdOfFirst.unique()\n",
    "df = df.loc[df.categoryIdOfFirst.isin(fashion_categories)]"
   ]
  },
  {
   "cell_type": "markdown",
   "metadata": {},
   "source": [
    "### Extract visual features"
   ]
  },
  {
   "cell_type": "code",
   "execution_count": 3,
   "metadata": {},
   "outputs": [
    {
     "name": "stderr",
     "output_type": "stream",
     "text": [
      "2019-06-15 14:59:15,141 : WARNING : From /usr/lib/python3.6/site-packages/tensorflow/python/framework/op_def_library.py:263: colocate_with (from tensorflow.python.framework.ops) is deprecated and will be removed in a future version.\n",
      "Instructions for updating:\n",
      "Colocations handled automatically by placer.\n"
     ]
    },
    {
     "data": {
      "application/vnd.jupyter.widget-view+json": {
       "model_id": "f1fa1a7b8af644d696b8a0ee18afda04",
       "version_major": 2,
       "version_minor": 0
      },
      "text/plain": [
       "HBox(children=(IntProgress(value=0, description='Vectorizing images', max=1000, style=ProgressStyle(descriptio…"
      ]
     },
     "metadata": {},
     "output_type": "display_data"
    },
    {
     "name": "stderr",
     "output_type": "stream",
     "text": [
      "2019-06-15 14:59:16,986 : ERROR : Can't get feature vector for image index 1 is out of bounds for axis 3 with size 1\n",
      "2019-06-15 14:59:16,987 : ERROR : Can't get feature vector for image index 1 is out of bounds for axis 3 with size 1\n",
      "2019-06-15 14:59:16,989 : ERROR : Can't get feature vector for image index 1 is out of bounds for axis 3 with size 1\n",
      "2019-06-15 14:59:16,991 : ERROR : Can't get feature vector for image index 1 is out of bounds for axis 3 with size 1\n",
      "2019-06-15 14:59:16,992 : ERROR : Can't get feature vector for image index 1 is out of bounds for axis 3 with size 1\n",
      "2019-06-15 14:59:16,994 : ERROR : Can't get feature vector for image index 1 is out of bounds for axis 3 with size 1\n",
      "2019-06-15 14:59:16,995 : ERROR : Can't get feature vector for image index 1 is out of bounds for axis 3 with size 1\n",
      "2019-06-15 14:59:16,997 : ERROR : Can't get feature vector for image index 1 is out of bounds for axis 3 with size 1\n",
      "2019-06-15 14:59:16,998 : ERROR : Can't get feature vector for image index 1 is out of bounds for axis 3 with size 1\n",
      "2019-06-15 14:59:17,000 : ERROR : Can't get feature vector for image index 1 is out of bounds for axis 3 with size 1\n",
      "2019-06-15 14:59:17,001 : ERROR : Can't get feature vector for image index 1 is out of bounds for axis 3 with size 1\n",
      "2019-06-15 14:59:17,179 : ERROR : Can't get feature vector for image index 1 is out of bounds for axis 3 with size 1\n",
      "2019-06-15 15:11:19,159 : ERROR : Can't get feature vector for image index 1 is out of bounds for axis 3 with size 1\n",
      "2019-06-15 15:11:26,933 : ERROR : Can't get feature vector for image cannot identify image file '/run/media/twoaday/data-storag/data-sets/cimri/images/85281922.jpg'\n",
      "2019-06-15 15:11:27,080 : ERROR : Can't get feature vector for image cannot identify image file '/run/media/twoaday/data-storag/data-sets/cimri/images/97360195.jpg'\n",
      "2019-06-15 15:26:07,266 : ERROR : Can't get feature vector for image index 1 is out of bounds for axis 3 with size 1\n",
      "2019-06-15 15:26:08,070 : ERROR : Can't get feature vector for image index 1 is out of bounds for axis 3 with size 1\n",
      "2019-06-15 15:26:10,753 : ERROR : Can't get feature vector for image index 1 is out of bounds for axis 3 with size 1\n",
      "2019-06-15 15:26:13,361 : ERROR : Can't get feature vector for image index 1 is out of bounds for axis 3 with size 1\n",
      "2019-06-15 15:26:16,041 : ERROR : Can't get feature vector for image index 1 is out of bounds for axis 3 with size 1\n",
      "2019-06-15 15:26:18,982 : ERROR : Can't get feature vector for image index 1 is out of bounds for axis 3 with size 1\n",
      "2019-06-15 15:26:20,596 : ERROR : Can't get feature vector for image index 1 is out of bounds for axis 3 with size 1\n",
      "2019-06-15 15:26:21,144 : ERROR : Can't get feature vector for image index 1 is out of bounds for axis 3 with size 1\n",
      "2019-06-15 15:28:31,744 : ERROR : Can't get feature vector for image index 1 is out of bounds for axis 3 with size 1\n",
      "2019-06-15 15:28:34,846 : ERROR : Can't get feature vector for image index 1 is out of bounds for axis 3 with size 1\n",
      "2019-06-15 15:28:37,463 : ERROR : Can't get feature vector for image index 1 is out of bounds for axis 3 with size 1\n",
      "2019-06-15 15:28:40,133 : ERROR : Can't get feature vector for image index 1 is out of bounds for axis 3 with size 1\n",
      "2019-06-15 15:28:40,707 : ERROR : Can't get feature vector for image index 1 is out of bounds for axis 3 with size 1\n",
      "2019-06-15 15:28:45,743 : ERROR : Can't get feature vector for image index 1 is out of bounds for axis 3 with size 1\n",
      "2019-06-15 15:28:46,271 : ERROR : Can't get feature vector for image index 1 is out of bounds for axis 3 with size 1\n",
      "2019-06-15 15:28:47,087 : ERROR : Can't get feature vector for image index 1 is out of bounds for axis 3 with size 1\n",
      "2019-06-15 15:28:48,100 : ERROR : Can't get feature vector for image index 1 is out of bounds for axis 3 with size 1\n",
      "2019-06-15 15:28:48,659 : ERROR : Can't get feature vector for image index 1 is out of bounds for axis 3 with size 1\n",
      "2019-06-15 15:28:49,181 : ERROR : Can't get feature vector for image index 1 is out of bounds for axis 3 with size 1\n",
      "2019-06-15 15:35:31,558 : ERROR : Can't get feature vector for image index 1 is out of bounds for axis 3 with size 1\n",
      "2019-06-15 15:35:33,939 : ERROR : Can't get feature vector for image index 1 is out of bounds for axis 3 with size 1\n",
      "2019-06-15 15:35:37,564 : ERROR : Can't get feature vector for image index 1 is out of bounds for axis 3 with size 1\n",
      "2019-06-15 15:35:41,962 : ERROR : Can't get feature vector for image index 1 is out of bounds for axis 3 with size 1\n",
      "2019-06-15 15:35:45,913 : ERROR : Can't get feature vector for image index 1 is out of bounds for axis 3 with size 1\n",
      "2019-06-15 15:36:19,521 : ERROR : Can't get feature vector for image index 1 is out of bounds for axis 3 with size 1\n",
      "2019-06-15 15:36:19,523 : ERROR : Can't get feature vector for image index 1 is out of bounds for axis 3 with size 1\n",
      "2019-06-15 15:36:19,531 : ERROR : Can't get feature vector for image index 1 is out of bounds for axis 3 with size 1\n",
      "2019-06-15 15:36:21,981 : ERROR : Can't get feature vector for image index 1 is out of bounds for axis 3 with size 1\n",
      "2019-06-15 15:36:21,988 : ERROR : Can't get feature vector for image index 1 is out of bounds for axis 3 with size 1\n",
      "2019-06-15 15:36:39,013 : ERROR : Can't get feature vector for image index 1 is out of bounds for axis 3 with size 1\n",
      "2019-06-15 15:36:39,015 : ERROR : Can't get feature vector for image index 1 is out of bounds for axis 3 with size 1\n",
      "2019-06-15 15:36:39,031 : ERROR : Can't get feature vector for image index 1 is out of bounds for axis 3 with size 1\n",
      "2019-06-15 15:36:39,041 : ERROR : Can't get feature vector for image index 1 is out of bounds for axis 3 with size 1\n",
      "2019-06-15 15:36:39,056 : ERROR : Can't get feature vector for image index 1 is out of bounds for axis 3 with size 1\n",
      "2019-06-15 15:36:39,639 : ERROR : Can't get feature vector for image index 1 is out of bounds for axis 3 with size 1\n",
      "2019-06-15 15:37:21,220 : ERROR : Can't get feature vector for image index 1 is out of bounds for axis 3 with size 1\n",
      "2019-06-15 15:37:24,717 : ERROR : Can't get feature vector for image index 1 is out of bounds for axis 3 with size 1\n",
      "2019-06-15 15:37:24,725 : ERROR : Can't get feature vector for image index 1 is out of bounds for axis 3 with size 1\n",
      "2019-06-15 15:37:30,527 : ERROR : Can't get feature vector for image index 1 is out of bounds for axis 3 with size 1\n",
      "2019-06-15 15:37:48,716 : ERROR : Can't get feature vector for image index 1 is out of bounds for axis 3 with size 1\n",
      "2019-06-15 15:37:51,317 : ERROR : Can't get feature vector for image index 1 is out of bounds for axis 3 with size 1\n",
      "2019-06-15 15:37:52,149 : ERROR : Can't get feature vector for image index 1 is out of bounds for axis 3 with size 1\n",
      "2019-06-15 15:37:54,765 : ERROR : Can't get feature vector for image index 1 is out of bounds for axis 3 with size 1\n",
      "2019-06-15 15:37:57,198 : ERROR : Can't get feature vector for image index 1 is out of bounds for axis 3 with size 1\n",
      "2019-06-15 15:37:57,667 : ERROR : Can't get feature vector for image index 1 is out of bounds for axis 3 with size 1\n",
      "2019-06-15 15:37:58,063 : ERROR : Can't get feature vector for image index 1 is out of bounds for axis 3 with size 1\n",
      "2019-06-15 15:38:00,522 : ERROR : Can't get feature vector for image index 1 is out of bounds for axis 3 with size 1\n",
      "2019-06-15 15:38:00,926 : ERROR : Can't get feature vector for image index 1 is out of bounds for axis 3 with size 1\n",
      "2019-06-15 15:38:03,471 : ERROR : Can't get feature vector for image index 1 is out of bounds for axis 3 with size 1\n",
      "2019-06-15 15:38:51,002 : ERROR : Can't get feature vector for image index 1 is out of bounds for axis 3 with size 1\n",
      "2019-06-15 15:41:14,647 : ERROR : Can't get feature vector for image index 1 is out of bounds for axis 3 with size 1\n",
      "2019-06-15 15:41:17,546 : ERROR : Can't get feature vector for image index 1 is out of bounds for axis 3 with size 1\n",
      "2019-06-15 15:41:26,880 : ERROR : Can't get feature vector for image index 1 is out of bounds for axis 3 with size 1\n",
      "2019-06-15 15:41:36,167 : ERROR : Can't get feature vector for image index 1 is out of bounds for axis 3 with size 1\n",
      "2019-06-15 15:42:29,029 : ERROR : Can't get feature vector for image index 1 is out of bounds for axis 3 with size 1\n"
     ]
    },
    {
     "name": "stderr",
     "output_type": "stream",
     "text": [
      "2019-06-15 15:42:29,035 : ERROR : Can't get feature vector for image index 1 is out of bounds for axis 3 with size 1\n",
      "2019-06-15 15:42:29,041 : ERROR : Can't get feature vector for image index 1 is out of bounds for axis 3 with size 1\n",
      "2019-06-15 15:42:29,048 : ERROR : Can't get feature vector for image index 1 is out of bounds for axis 3 with size 1\n",
      "2019-06-15 15:42:29,056 : ERROR : Can't get feature vector for image index 1 is out of bounds for axis 3 with size 1\n",
      "2019-06-15 15:42:29,062 : ERROR : Can't get feature vector for image index 1 is out of bounds for axis 3 with size 1\n",
      "2019-06-15 15:42:29,068 : ERROR : Can't get feature vector for image index 1 is out of bounds for axis 3 with size 1\n",
      "2019-06-15 15:42:29,073 : ERROR : Can't get feature vector for image index 1 is out of bounds for axis 3 with size 1\n",
      "2019-06-15 15:42:29,079 : ERROR : Can't get feature vector for image index 1 is out of bounds for axis 3 with size 1\n",
      "2019-06-15 15:42:29,085 : ERROR : Can't get feature vector for image index 1 is out of bounds for axis 3 with size 1\n",
      "2019-06-15 15:42:29,092 : ERROR : Can't get feature vector for image index 1 is out of bounds for axis 3 with size 1\n",
      "2019-06-15 15:42:29,444 : ERROR : Can't get feature vector for image index 1 is out of bounds for axis 3 with size 1\n",
      "2019-06-15 15:42:35,856 : ERROR : Can't get feature vector for image index 1 is out of bounds for axis 3 with size 1\n",
      "2019-06-15 15:42:35,914 : ERROR : Can't get feature vector for image cannot identify image file '/run/media/twoaday/data-storag/data-sets/cimri/images/85281922.jpg'\n",
      "2019-06-15 15:42:35,917 : ERROR : Can't get feature vector for image cannot identify image file '/run/media/twoaday/data-storag/data-sets/cimri/images/97360195.jpg'\n",
      "2019-06-15 15:42:39,748 : ERROR : Can't get feature vector for image index 1 is out of bounds for axis 3 with size 1\n",
      "2019-06-15 15:42:39,752 : ERROR : Can't get feature vector for image index 1 is out of bounds for axis 3 with size 1\n",
      "2019-06-15 15:42:39,755 : ERROR : Can't get feature vector for image index 1 is out of bounds for axis 3 with size 1\n",
      "2019-06-15 15:42:39,765 : ERROR : Can't get feature vector for image index 1 is out of bounds for axis 3 with size 1\n",
      "2019-06-15 15:42:39,769 : ERROR : Can't get feature vector for image index 1 is out of bounds for axis 3 with size 1\n",
      "2019-06-15 15:42:39,773 : ERROR : Can't get feature vector for image index 1 is out of bounds for axis 3 with size 1\n",
      "2019-06-15 15:42:39,776 : ERROR : Can't get feature vector for image index 1 is out of bounds for axis 3 with size 1\n",
      "2019-06-15 15:42:39,789 : ERROR : Can't get feature vector for image index 1 is out of bounds for axis 3 with size 1\n",
      "2019-06-15 15:42:40,492 : ERROR : Can't get feature vector for image index 1 is out of bounds for axis 3 with size 1\n",
      "2019-06-15 15:42:40,500 : ERROR : Can't get feature vector for image index 1 is out of bounds for axis 3 with size 1\n",
      "2019-06-15 15:42:40,502 : ERROR : Can't get feature vector for image index 1 is out of bounds for axis 3 with size 1\n",
      "2019-06-15 15:42:40,504 : ERROR : Can't get feature vector for image index 1 is out of bounds for axis 3 with size 1\n",
      "2019-06-15 15:42:40,506 : ERROR : Can't get feature vector for image index 1 is out of bounds for axis 3 with size 1\n",
      "2019-06-15 15:42:40,514 : ERROR : Can't get feature vector for image index 1 is out of bounds for axis 3 with size 1\n",
      "2019-06-15 15:42:40,516 : ERROR : Can't get feature vector for image index 1 is out of bounds for axis 3 with size 1\n",
      "2019-06-15 15:42:40,518 : ERROR : Can't get feature vector for image index 1 is out of bounds for axis 3 with size 1\n",
      "2019-06-15 15:42:40,533 : ERROR : Can't get feature vector for image index 1 is out of bounds for axis 3 with size 1\n",
      "2019-06-15 15:42:40,537 : ERROR : Can't get feature vector for image index 1 is out of bounds for axis 3 with size 1\n",
      "2019-06-15 15:42:40,540 : ERROR : Can't get feature vector for image index 1 is out of bounds for axis 3 with size 1\n",
      "2019-06-15 15:42:42,351 : ERROR : Can't get feature vector for image index 1 is out of bounds for axis 3 with size 1\n",
      "2019-06-15 15:42:42,354 : ERROR : Can't get feature vector for image index 1 is out of bounds for axis 3 with size 1\n",
      "2019-06-15 15:42:42,368 : ERROR : Can't get feature vector for image index 1 is out of bounds for axis 3 with size 1\n",
      "2019-06-15 15:42:42,377 : ERROR : Can't get feature vector for image index 1 is out of bounds for axis 3 with size 1\n",
      "2019-06-15 15:42:42,385 : ERROR : Can't get feature vector for image index 1 is out of bounds for axis 3 with size 1\n",
      "2019-06-15 15:42:42,523 : ERROR : Can't get feature vector for image index 1 is out of bounds for axis 3 with size 1\n",
      "2019-06-15 15:42:42,525 : ERROR : Can't get feature vector for image index 1 is out of bounds for axis 3 with size 1\n",
      "2019-06-15 15:42:42,531 : ERROR : Can't get feature vector for image index 1 is out of bounds for axis 3 with size 1\n",
      "2019-06-15 15:42:42,544 : ERROR : Can't get feature vector for image index 1 is out of bounds for axis 3 with size 1\n",
      "2019-06-15 15:42:42,550 : ERROR : Can't get feature vector for image index 1 is out of bounds for axis 3 with size 1\n",
      "2019-06-15 15:42:42,748 : ERROR : Can't get feature vector for image index 1 is out of bounds for axis 3 with size 1\n",
      "2019-06-15 15:42:42,750 : ERROR : Can't get feature vector for image index 1 is out of bounds for axis 3 with size 1\n",
      "2019-06-15 15:42:42,763 : ERROR : Can't get feature vector for image index 1 is out of bounds for axis 3 with size 1\n",
      "2019-06-15 15:42:42,769 : ERROR : Can't get feature vector for image index 1 is out of bounds for axis 3 with size 1\n",
      "2019-06-15 15:42:42,776 : ERROR : Can't get feature vector for image index 1 is out of bounds for axis 3 with size 1\n",
      "2019-06-15 15:42:42,782 : ERROR : Can't get feature vector for image index 1 is out of bounds for axis 3 with size 1\n",
      "2019-06-15 15:42:42,920 : ERROR : Can't get feature vector for image index 1 is out of bounds for axis 3 with size 1\n",
      "2019-06-15 15:42:42,942 : ERROR : Can't get feature vector for image index 1 is out of bounds for axis 3 with size 1\n",
      "2019-06-15 15:42:42,949 : ERROR : Can't get feature vector for image index 1 is out of bounds for axis 3 with size 1\n",
      "2019-06-15 15:42:42,966 : ERROR : Can't get feature vector for image index 1 is out of bounds for axis 3 with size 1\n",
      "2019-06-15 15:42:43,073 : ERROR : Can't get feature vector for image index 1 is out of bounds for axis 3 with size 1\n",
      "2019-06-15 15:42:43,074 : ERROR : Can't get feature vector for image index 1 is out of bounds for axis 3 with size 1\n",
      "2019-06-15 15:42:43,081 : ERROR : Can't get feature vector for image index 1 is out of bounds for axis 3 with size 1\n",
      "2019-06-15 15:42:43,083 : ERROR : Can't get feature vector for image index 1 is out of bounds for axis 3 with size 1\n",
      "2019-06-15 15:42:43,084 : ERROR : Can't get feature vector for image index 1 is out of bounds for axis 3 with size 1\n",
      "2019-06-15 15:42:43,086 : ERROR : Can't get feature vector for image index 1 is out of bounds for axis 3 with size 1\n",
      "2019-06-15 15:42:43,088 : ERROR : Can't get feature vector for image index 1 is out of bounds for axis 3 with size 1\n",
      "2019-06-15 15:42:43,090 : ERROR : Can't get feature vector for image index 1 is out of bounds for axis 3 with size 1\n",
      "2019-06-15 15:42:43,106 : ERROR : Can't get feature vector for image index 1 is out of bounds for axis 3 with size 1\n",
      "2019-06-15 15:42:43,108 : ERROR : Can't get feature vector for image index 1 is out of bounds for axis 3 with size 1\n",
      "2019-06-15 15:42:43,360 : ERROR : Can't get feature vector for image index 1 is out of bounds for axis 3 with size 1\n",
      "2019-06-15 15:42:43,933 : ERROR : Can't get feature vector for image index 1 is out of bounds for axis 3 with size 1\n",
      "2019-06-15 15:42:43,939 : ERROR : Can't get feature vector for image index 1 is out of bounds for axis 3 with size 1\n",
      "2019-06-15 15:42:43,956 : ERROR : Can't get feature vector for image index 1 is out of bounds for axis 3 with size 1\n",
      "2019-06-15 15:42:43,991 : ERROR : Can't get feature vector for image index 1 is out of bounds for axis 3 with size 1\n",
      "2019-06-15 15:45:02,048 : ERROR : Can't get feature vector for image index 1 is out of bounds for axis 3 with size 1\n",
      "2019-06-15 15:45:04,500 : ERROR : Can't get feature vector for image index 1 is out of bounds for axis 3 with size 1\n"
     ]
    },
    {
     "name": "stderr",
     "output_type": "stream",
     "text": [
      "2019-06-15 15:45:42,285 : ERROR : Can't get feature vector for image index 1 is out of bounds for axis 3 with size 1\n",
      "2019-06-15 15:45:47,285 : ERROR : Can't get feature vector for image index 1 is out of bounds for axis 3 with size 1\n",
      "2019-06-15 15:45:50,676 : ERROR : Can't get feature vector for image index 1 is out of bounds for axis 3 with size 1\n",
      "2019-06-15 15:45:55,726 : ERROR : Can't get feature vector for image index 1 is out of bounds for axis 3 with size 1\n",
      "2019-06-15 15:45:58,754 : ERROR : Can't get feature vector for image index 1 is out of bounds for axis 3 with size 1\n",
      "2019-06-15 15:46:01,251 : ERROR : Can't get feature vector for image index 1 is out of bounds for axis 3 with size 1\n",
      "2019-06-15 15:46:03,798 : ERROR : Can't get feature vector for image index 1 is out of bounds for axis 3 with size 1\n",
      "2019-06-15 15:46:06,791 : ERROR : Can't get feature vector for image index 1 is out of bounds for axis 3 with size 1\n",
      "2019-06-15 15:46:07,598 : ERROR : Can't get feature vector for image index 1 is out of bounds for axis 3 with size 1\n",
      "2019-06-15 15:46:17,169 : ERROR : Can't get feature vector for image index 1 is out of bounds for axis 3 with size 1\n",
      "2019-06-15 15:46:19,976 : ERROR : Can't get feature vector for image index 1 is out of bounds for axis 3 with size 1\n",
      "2019-06-15 15:46:26,307 : ERROR : Can't get feature vector for image index 1 is out of bounds for axis 3 with size 1\n",
      "2019-06-15 15:46:58,601 : ERROR : Can't get feature vector for image index 1 is out of bounds for axis 3 with size 1\n",
      "2019-06-15 15:47:06,465 : ERROR : Can't get feature vector for image index 1 is out of bounds for axis 3 with size 1\n",
      "2019-06-15 15:47:16,607 : ERROR : Can't get feature vector for image index 1 is out of bounds for axis 3 with size 1\n",
      "2019-06-15 15:48:35,070 : ERROR : Can't get feature vector for image index 1 is out of bounds for axis 3 with size 1\n",
      "2019-06-15 15:48:35,141 : ERROR : Can't get feature vector for image index 1 is out of bounds for axis 3 with size 1\n",
      "2019-06-15 15:48:35,209 : ERROR : Can't get feature vector for image index 1 is out of bounds for axis 3 with size 1\n",
      "2019-06-15 15:49:55,832 : ERROR : Can't get feature vector for image index 1 is out of bounds for axis 3 with size 1\n",
      "2019-06-15 15:51:09,315 : ERROR : Can't get feature vector for image index 1 is out of bounds for axis 3 with size 1\n",
      "2019-06-15 15:56:20,204 : ERROR : Can't get feature vector for image index 1 is out of bounds for axis 3 with size 1\n",
      "2019-06-15 15:56:29,196 : ERROR : Can't get feature vector for image index 1 is out of bounds for axis 3 with size 1\n",
      "2019-06-15 15:56:29,818 : ERROR : Can't get feature vector for image index 1 is out of bounds for axis 3 with size 1\n",
      "2019-06-15 15:56:34,663 : ERROR : Can't get feature vector for image index 1 is out of bounds for axis 3 with size 1\n",
      "2019-06-15 15:57:15,129 : ERROR : Can't get feature vector for image index 1 is out of bounds for axis 3 with size 1\n",
      "2019-06-15 15:57:17,667 : ERROR : Can't get feature vector for image index 1 is out of bounds for axis 3 with size 1\n",
      "2019-06-15 15:57:18,521 : ERROR : Can't get feature vector for image index 1 is out of bounds for axis 3 with size 1\n",
      "2019-06-15 15:57:21,930 : ERROR : Can't get feature vector for image index 1 is out of bounds for axis 3 with size 1\n",
      "2019-06-15 15:57:22,449 : ERROR : Can't get feature vector for image index 1 is out of bounds for axis 3 with size 1\n",
      "2019-06-15 15:57:28,148 : ERROR : Can't get feature vector for image index 1 is out of bounds for axis 3 with size 1\n",
      "2019-06-15 15:57:30,822 : ERROR : Can't get feature vector for image index 1 is out of bounds for axis 3 with size 1\n",
      "2019-06-15 15:57:31,359 : ERROR : Can't get feature vector for image index 1 is out of bounds for axis 3 with size 1\n",
      "2019-06-15 15:58:07,799 : ERROR : Can't get feature vector for image index 1 is out of bounds for axis 3 with size 1\n",
      "2019-06-15 16:00:59,076 : ERROR : Can't get feature vector for image index 1 is out of bounds for axis 3 with size 1\n",
      "2019-06-15 16:02:08,010 : ERROR : Can't get feature vector for image index 1 is out of bounds for axis 3 with size 1\n",
      "2019-06-15 16:02:40,039 : ERROR : Can't get feature vector for image index 1 is out of bounds for axis 3 with size 1\n",
      "2019-06-15 16:02:46,316 : ERROR : Can't get feature vector for image index 1 is out of bounds for axis 3 with size 1\n",
      "2019-06-15 16:02:49,686 : ERROR : Can't get feature vector for image index 1 is out of bounds for axis 3 with size 1\n",
      "2019-06-15 16:02:50,273 : ERROR : Can't get feature vector for image index 1 is out of bounds for axis 3 with size 1\n",
      "2019-06-15 16:02:50,286 : ERROR : Can't get feature vector for image index 1 is out of bounds for axis 3 with size 1\n",
      "2019-06-15 16:18:41,154 : ERROR : Can't get feature vector for image index 1 is out of bounds for axis 3 with size 1\n",
      "2019-06-15 16:19:01,238 : ERROR : Can't get feature vector for image index 1 is out of bounds for axis 3 with size 1\n",
      "2019-06-15 16:20:22,534 : ERROR : Can't get feature vector for image index 1 is out of bounds for axis 3 with size 1\n",
      "2019-06-15 16:20:27,979 : ERROR : Can't get feature vector for image index 1 is out of bounds for axis 3 with size 1\n",
      "2019-06-15 16:20:30,535 : ERROR : Can't get feature vector for image index 1 is out of bounds for axis 3 with size 1\n",
      "2019-06-15 16:20:33,407 : ERROR : Can't get feature vector for image index 1 is out of bounds for axis 3 with size 1\n",
      "2019-06-15 16:22:39,863 : ERROR : Can't get feature vector for image index 1 is out of bounds for axis 3 with size 1\n",
      "2019-06-15 16:22:41,181 : ERROR : Can't get feature vector for image index 1 is out of bounds for axis 3 with size 1\n",
      "2019-06-15 16:22:43,938 : ERROR : Can't get feature vector for image index 1 is out of bounds for axis 3 with size 1\n",
      "2019-06-15 16:22:46,619 : ERROR : Can't get feature vector for image index 1 is out of bounds for axis 3 with size 1\n",
      "2019-06-15 16:22:52,992 : ERROR : Can't get feature vector for image index 1 is out of bounds for axis 3 with size 1\n",
      "2019-06-15 16:22:55,915 : ERROR : Can't get feature vector for image index 1 is out of bounds for axis 3 with size 1\n",
      "2019-06-15 16:22:57,174 : ERROR : Can't get feature vector for image index 1 is out of bounds for axis 3 with size 1\n",
      "2019-06-15 16:22:59,987 : ERROR : Can't get feature vector for image index 1 is out of bounds for axis 3 with size 1\n",
      "2019-06-15 16:23:00,686 : ERROR : Can't get feature vector for image index 1 is out of bounds for axis 3 with size 1\n",
      "2019-06-15 16:24:16,424 : ERROR : Can't get feature vector for image index 1 is out of bounds for axis 3 with size 1\n",
      "2019-06-15 16:42:32,729 : ERROR : Can't get feature vector for image index 1 is out of bounds for axis 3 with size 1\n",
      "2019-06-15 16:42:33,663 : ERROR : Can't get feature vector for image index 1 is out of bounds for axis 3 with size 1\n",
      "2019-06-15 16:42:34,216 : ERROR : Can't get feature vector for image index 1 is out of bounds for axis 3 with size 1\n",
      "2019-06-15 16:42:35,177 : ERROR : Can't get feature vector for image index 1 is out of bounds for axis 3 with size 1\n",
      "2019-06-15 16:42:35,829 : ERROR : Can't get feature vector for image index 1 is out of bounds for axis 3 with size 1\n",
      "2019-06-15 16:42:38,450 : ERROR : Can't get feature vector for image index 1 is out of bounds for axis 3 with size 1\n",
      "2019-06-15 16:42:38,986 : ERROR : Can't get feature vector for image index 1 is out of bounds for axis 3 with size 1\n",
      "2019-06-15 16:42:39,657 : ERROR : Can't get feature vector for image index 1 is out of bounds for axis 3 with size 1\n",
      "2019-06-15 16:46:58,776 : ERROR : Can't get feature vector for image index 1 is out of bounds for axis 3 with size 1\n",
      "2019-06-15 16:47:01,258 : ERROR : Can't get feature vector for image index 1 is out of bounds for axis 3 with size 1\n",
      "2019-06-15 16:47:01,269 : ERROR : Can't get feature vector for image index 1 is out of bounds for axis 3 with size 1\n",
      "2019-06-15 16:47:01,698 : ERROR : Can't get feature vector for image index 1 is out of bounds for axis 3 with size 1\n",
      "2019-06-15 16:47:04,120 : ERROR : Can't get feature vector for image index 1 is out of bounds for axis 3 with size 1\n",
      "2019-06-15 16:47:04,596 : ERROR : Can't get feature vector for image index 1 is out of bounds for axis 3 with size 1\n",
      "2019-06-15 16:47:06,983 : ERROR : Can't get feature vector for image index 1 is out of bounds for axis 3 with size 1\n"
     ]
    },
    {
     "name": "stderr",
     "output_type": "stream",
     "text": [
      "2019-06-15 16:47:07,451 : ERROR : Can't get feature vector for image index 1 is out of bounds for axis 3 with size 1\n",
      "2019-06-15 16:47:07,919 : ERROR : Can't get feature vector for image index 1 is out of bounds for axis 3 with size 1\n",
      "2019-06-15 16:47:08,413 : ERROR : Can't get feature vector for image index 1 is out of bounds for axis 3 with size 1\n",
      "2019-06-15 16:51:33,750 : ERROR : Can't get feature vector for image index 1 is out of bounds for axis 3 with size 1\n",
      "2019-06-15 16:51:38,204 : ERROR : Can't get feature vector for image index 1 is out of bounds for axis 3 with size 1\n",
      "2019-06-15 16:51:38,736 : ERROR : Can't get feature vector for image index 1 is out of bounds for axis 3 with size 1\n",
      "2019-06-15 16:51:41,408 : ERROR : Can't get feature vector for image index 1 is out of bounds for axis 3 with size 1\n",
      "2019-06-15 16:51:44,031 : ERROR : Can't get feature vector for image index 1 is out of bounds for axis 3 with size 1\n",
      "2019-06-15 16:51:44,036 : ERROR : Can't get feature vector for image index 1 is out of bounds for axis 3 with size 1\n",
      "2019-06-15 16:51:44,582 : ERROR : Can't get feature vector for image index 1 is out of bounds for axis 3 with size 1\n",
      "2019-06-15 16:51:48,193 : ERROR : Can't get feature vector for image index 1 is out of bounds for axis 3 with size 1\n",
      "2019-06-15 16:51:51,116 : ERROR : Can't get feature vector for image index 1 is out of bounds for axis 3 with size 1\n",
      "2019-06-15 16:59:25,597 : ERROR : Can't get feature vector for image index 1 is out of bounds for axis 3 with size 1\n",
      "2019-06-15 16:59:28,211 : ERROR : Can't get feature vector for image index 1 is out of bounds for axis 3 with size 1\n",
      "2019-06-15 17:02:14,792 : ERROR : Can't get feature vector for image index 1 is out of bounds for axis 3 with size 1\n",
      "2019-06-15 17:05:47,917 : ERROR : Can't get feature vector for image index 1 is out of bounds for axis 3 with size 1\n",
      "2019-06-15 17:05:58,248 : ERROR : Can't get feature vector for image index 1 is out of bounds for axis 3 with size 1\n",
      "2019-06-15 17:07:02,022 : ERROR : Can't get feature vector for image index 1 is out of bounds for axis 3 with size 1\n"
     ]
    },
    {
     "name": "stdout",
     "output_type": "stream",
     "text": [
      "\n"
     ]
    }
   ],
   "source": [
    "sample_count = 1000\n",
    "img_vectorizer = ImageVectorizationModel(ImageClassificationModel.vgg16)\n",
    "image_vectors = []\n",
    "image_list = []\n",
    "for _, row in tqdm_notebook(df.head(sample_count).iterrows(), total=sample_count, desc='Vectorizing images'):\n",
    "    img_ids = []\n",
    "    [img_ids.append(img_id) for img_id in row['productImages'].split('-')]\n",
    "    [img_ids.append(img_id) for img_id in row['offerImages'].split('-')]\n",
    "    img_ids = set(img_ids)\n",
    "    for img_id in img_ids:\n",
    "        try:\n",
    "            image_vectors.append(img_vectorizer.get_feature_vectors(img_id))\n",
    "            image_list.append([row['productId'], img_id])\n",
    "        except Exception:\n",
    "            continue"
   ]
  },
  {
   "cell_type": "markdown",
   "metadata": {},
   "source": [
    "### Reduce dimensionality"
   ]
  },
  {
   "cell_type": "code",
   "execution_count": 4,
   "metadata": {},
   "outputs": [],
   "source": [
    "pca = PCA(n_components=2)\n",
    "pca.fit(image_vectors)\n",
    "X_embedded = pca.transform(image_vectors)\n",
    "\n",
    "with open(DIM_RED_MODEL_PATH, 'wb') as pca_file:\n",
    "    pickle.dump(pca, pca_file)\n",
    "\n",
    "X_embedded = np.array(X_embedded)\n",
    "image_list = np.array(image_list)\n",
    "df_concatenated = np.concatenate((image_list, X_embedded), axis=1)\n",
    "df_concatenated = pd.DataFrame(df_concatenated, columns=['productId', 'imageId', 'x', 'y'])"
   ]
  },
  {
   "cell_type": "markdown",
   "metadata": {},
   "source": [
    "### Generate Index"
   ]
  },
  {
   "cell_type": "code",
   "execution_count": 5,
   "metadata": {},
   "outputs": [],
   "source": [
    "tree = spatial.KDTree(X_embedded)"
   ]
  },
  {
   "cell_type": "markdown",
   "metadata": {},
   "source": [
    "### Search"
   ]
  },
  {
   "cell_type": "code",
   "execution_count": 15,
   "metadata": {},
   "outputs": [
    {
     "data": {
      "image/jpeg": "[encoded data removed]",
      "text/plain": [
       "<IPython.core.display.Image object>"
      ]
     },
     "metadata": {
      "image/jpeg": {
       "unconfined": true
      }
     },
     "output_type": "display_data"
    },
    {
     "name": "stdout",
     "output_type": "stream",
     "text": [
      "Query image\n"
     ]
    },
    {
     "data": {
      "image/jpeg": "[encoded data removed]",
      "text/plain": [
       "<IPython.core.display.Image object>"
      ]
     },
     "metadata": {
      "image/jpeg": {
       "unconfined": true
      }
     },
     "output_type": "display_data"
    },
    {
     "name": "stdout",
     "output_type": "stream",
     "text": [
      "6.291413575689448e-13\n"
     ]
    },
    {
     "data": {
      "image/jpeg": "[encoded data removed]",
      "text/plain": [
       "<IPython.core.display.Image object>"
      ]
     },
     "metadata": {
      "image/jpeg": {
       "unconfined": true
      }
     },
     "output_type": "display_data"
    },
    {
     "name": "stdout",
     "output_type": "stream",
     "text": [
      "6.291413575689448e-13\n"
     ]
    },
    {
     "data": {
      "image/jpeg": "[encoded data removed]",
      "text/plain": [
       "<IPython.core.display.Image object>"
      ]
     },
     "metadata": {
      "image/jpeg": {
       "unconfined": true
      }
     },
     "output_type": "display_data"
    },
    {
     "name": "stdout",
     "output_type": "stream",
     "text": [
      "0.8074458647092967\n"
     ]
    },
    {
     "data": {
      "image/jpeg": "[encoded data removed]",
      "text/plain": [
       "<IPython.core.display.Image object>"
      ]
     },
     "metadata": {
      "image/jpeg": {
       "unconfined": true
      }
     },
     "output_type": "display_data"
    },
    {
     "name": "stdout",
     "output_type": "stream",
     "text": [
      "0.8074458647092967\n"
     ]
    },
    {
     "data": {
      "image/jpeg": "[encoded data removed]",
      "text/plain": [
       "<IPython.core.display.Image object>"
      ]
     },
     "metadata": {
      "image/jpeg": {
       "unconfined": true
      }
     },
     "output_type": "display_data"
    },
    {
     "name": "stdout",
     "output_type": "stream",
     "text": [
      "0.8580525351444175\n"
     ]
    },
    {
     "data": {
      "image/jpeg": "[encoded data removed]",
      "text/plain": [
       "<IPython.core.display.Image object>"
      ]
     },
     "metadata": {
      "image/jpeg": {
       "unconfined": true
      }
     },
     "output_type": "display_data"
    },
    {
     "name": "stdout",
     "output_type": "stream",
     "text": [
      "0.8580525351444175\n"
     ]
    },
    {
     "data": {
      "image/jpeg": "[encoded data removed]",
      "text/plain": [
       "<IPython.core.display.Image object>"
      ]
     },
     "metadata": {
      "image/jpeg": {
       "unconfined": true
      }
     },
     "output_type": "display_data"
    },
    {
     "name": "stdout",
     "output_type": "stream",
     "text": [
      "0.920057975123519\n"
     ]
    },
    {
     "data": {
      "image/jpeg": "[encoded data removed]",
      "text/plain": [
       "<IPython.core.display.Image object>"
      ]
     },
     "metadata": {
      "image/jpeg": {
       "unconfined": true
      }
     },
     "output_type": "display_data"
    },
    {
     "name": "stdout",
     "output_type": "stream",
     "text": [
      "0.920057975123519\n"
     ]
    },
    {
     "data": {
      "image/jpeg": "[encoded data removed]",
      "text/plain": [
       "<IPython.core.display.Image object>"
      ]
     },
     "metadata": {
      "image/jpeg": {
       "unconfined": true
      }
     },
     "output_type": "display_data"
    },
    {
     "name": "stdout",
     "output_type": "stream",
     "text": [
      "0.9310913310482544\n"
     ]
    },
    {
     "data": {
      "image/jpeg": "[encoded data removed]",
      "text/plain": [
       "<IPython.core.display.Image object>"
      ]
     },
     "metadata": {
      "image/jpeg": {
       "unconfined": true
      }
     },
     "output_type": "display_data"
    },
    {
     "name": "stdout",
     "output_type": "stream",
     "text": [
      "0.9310913310482544\n"
     ]
    },
    {
     "data": {
      "image/jpeg": "[encoded data removed]",
      "text/plain": [
       "<IPython.core.display.Image object>"
      ]
     },
     "metadata": {
      "image/jpeg": {
       "unconfined": true
      }
     },
     "output_type": "display_data"
    },
    {
     "name": "stdout",
     "output_type": "stream",
     "text": [
      "0.9520143564229175\n"
     ]
    },
    {
     "data": {
      "image/jpeg": "[encoded data removed]",
      "text/plain": [
       "<IPython.core.display.Image object>"
      ]
     },
     "metadata": {
      "image/jpeg": {
       "unconfined": true
      }
     },
     "output_type": "display_data"
    },
    {
     "name": "stdout",
     "output_type": "stream",
     "text": [
      "0.9520143564229175\n"
     ]
    },
    {
     "data": {
      "image/jpeg": "[encoded data removed]",
      "text/plain": [
       "<IPython.core.display.Image object>"
      ]
     },
     "metadata": {
      "image/jpeg": {
       "unconfined": true
      }
     },
     "output_type": "display_data"
    },
    {
     "name": "stdout",
     "output_type": "stream",
     "text": [
      "1.0429867146196632\n"
     ]
    },
    {
     "data": {
      "image/jpeg": "[encoded data removed]",
      "text/plain": [
       "<IPython.core.display.Image object>"
      ]
     },
     "metadata": {
      "image/jpeg": {
       "unconfined": true
      }
     },
     "output_type": "display_data"
    },
    {
     "name": "stdout",
     "output_type": "stream",
     "text": [
      "1.043798800788635\n"
     ]
    },
    {
     "data": {
      "image/jpeg": "[encoded data removed]",
      "text/plain": [
       "<IPython.core.display.Image object>"
      ]
     },
     "metadata": {
      "image/jpeg": {
       "unconfined": true
      }
     },
     "output_type": "display_data"
    },
    {
     "name": "stdout",
     "output_type": "stream",
     "text": [
      "1.043798800788635\n"
     ]
    },
    {
     "data": {
      "image/jpeg": "[encoded data removed]",
      "text/plain": [
       "<IPython.core.display.Image object>"
      ]
     },
     "metadata": {
      "image/jpeg": {
       "unconfined": true
      }
     },
     "output_type": "display_data"
    },
    {
     "name": "stdout",
     "output_type": "stream",
     "text": [
      "1.0532777767631238\n"
     ]
    },
    {
     "data": {
      "image/jpeg": "[encoded data removed]",
      "text/plain": [
       "<IPython.core.display.Image object>"
      ]
     },
     "metadata": {
      "image/jpeg": {
       "unconfined": true
      }
     },
     "output_type": "display_data"
    },
    {
     "name": "stdout",
     "output_type": "stream",
     "text": [
      "1.0532777767631238\n"
     ]
    },
    {
     "data": {
      "image/jpeg": "[encoded data removed]",
      "text/plain": [
       "<IPython.core.display.Image object>"
      ]
     },
     "metadata": {
      "image/jpeg": {
       "unconfined": true
      }
     },
     "output_type": "display_data"
    },
    {
     "name": "stdout",
     "output_type": "stream",
     "text": [
      "1.1864886053480423\n"
     ]
    },
    {
     "data": {
      "image/jpeg": "[encoded data removed]",
      "text/plain": [
       "<IPython.core.display.Image object>"
      ]
     },
     "metadata": {
      "image/jpeg": {
       "unconfined": true
      }
     },
     "output_type": "display_data"
    },
    {
     "name": "stdout",
     "output_type": "stream",
     "text": [
      "1.7707623632034863\n"
     ]
    },
    {
     "data": {
      "image/jpeg": "[encoded data removed]",
      "text/plain": [
       "<IPython.core.display.Image object>"
      ]
     },
     "metadata": {
      "image/jpeg": {
       "unconfined": true
      }
     },
     "output_type": "display_data"
    },
    {
     "name": "stdout",
     "output_type": "stream",
     "text": [
      "1.7990850528125562\n"
     ]
    }
   ],
   "source": [
    "image_size = 128\n",
    "item_index = randint(0, len(image_vectors))\n",
    "\n",
    "url = \"https://cdn.cimri.io/image/{0}x{0}/asdf_{1}.jpg\".format(image_size, image_list[item_index][1])\n",
    "display(Image(url, unconfined=True))\n",
    "print('Query image')\n",
    "    \n",
    "distances, indexes = tree.query(pca.transform([image_vectors[item_index]])[0], k=20)\n",
    "for distance, index in zip(distances, indexes):\n",
    "    image_id = image_list[index][1]\n",
    "    url = \"https://cdn.cimri.io/image/{0}x{0}/asdf_{1}.jpg\".format(image_size, image_id)\n",
    "    display(Image(url, unconfined=True))\n",
    "    print(distance)"
   ]
  },
  {
   "cell_type": "code",
   "execution_count": null,
   "metadata": {},
   "outputs": [],
   "source": []
  },
  {
   "cell_type": "code",
   "execution_count": null,
   "metadata": {},
   "outputs": [],
   "source": []
  }
 ],
 "metadata": {
  "kernelspec": {
   "display_name": "Python 3",
   "language": "python",
   "name": "python3"
  },
  "language_info": {
   "codemirror_mode": {
    "name": "ipython",
    "version": 3
   },
   "file_extension": ".py",
   "mimetype": "text/x-python",
   "name": "python",
   "nbconvert_exporter": "python",
   "pygments_lexer": "ipython3",
   "version": "3.6.5"
  }
 },
 "nbformat": 4,
 "nbformat_minor": 1
}
