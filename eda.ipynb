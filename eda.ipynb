{
 "cells": [
  {
   "cell_type": "code",
   "execution_count": 2,
   "metadata": {},
   "outputs": [
    {
     "name": "stderr",
     "output_type": "stream",
     "text": [
      "2019-06-14 21:44:09,505 : INFO : Checking directories...\n",
      "2019-06-14 21:44:09,508 : INFO : Directories are set.\n"
     ]
    }
   ],
   "source": [
    "import pandas as pd \n",
    "from commons.config import CIMRI_CSV"
   ]
  },
  {
   "cell_type": "code",
   "execution_count": 11,
   "metadata": {},
   "outputs": [],
   "source": [
    "df = pd.read_csv(CIMRI_CSV, error_bad_lines=False)\n",
    "df = df.drop(columns=['Unnamed: 0'])\n",
    "df = df.loc[df.isSame == 1]\n",
    "df = df.drop(columns=['offerId', 'isSame', 'secondProduct'])\n",
    "df = df.dropna()"
   ]
  },
  {
   "cell_type": "code",
   "execution_count": 41,
   "metadata": {},
   "outputs": [
    {
     "data": {
      "text/html": [
       "<div>\n",
       "<style scoped>\n",
       "    .dataframe tbody tr th:only-of-type {\n",
       "        vertical-align: middle;\n",
       "    }\n",
       "\n",
       "    .dataframe tbody tr th {\n",
       "        vertical-align: top;\n",
       "    }\n",
       "\n",
       "    .dataframe thead th {\n",
       "        text-align: right;\n",
       "    }\n",
       "</style>\n",
       "<table border=\"1\" class=\"dataframe\">\n",
       "  <thead>\n",
       "    <tr style=\"text-align: right;\">\n",
       "      <th></th>\n",
       "      <th>firstProduct</th>\n",
       "      <th>categoryIdOfFirst</th>\n",
       "      <th>productId</th>\n",
       "      <th>productImages</th>\n",
       "      <th>offerImages</th>\n",
       "    </tr>\n",
       "  </thead>\n",
       "  <tbody>\n",
       "    <tr>\n",
       "      <th>0</th>\n",
       "      <td>$arcelik-k-3190-p-telve-kahve-makinesi</td>\n",
       "      <td>5095</td>\n",
       "      <td>989795</td>\n",
       "      <td>76212232-76227573-76052657-75830462-74982570-7...</td>\n",
       "      <td>83570223-83545479-77693833</td>\n",
       "    </tr>\n",
       "    <tr>\n",
       "      <th>1</th>\n",
       "      <td>$dyson-v8-absolute-kablosuz-sarjli-supurge</td>\n",
       "      <td>249</td>\n",
       "      <td>39294277</td>\n",
       "      <td>60996879-69580293-90079988-85103634-84898701-7...</td>\n",
       "      <td>22315286</td>\n",
       "    </tr>\n",
       "    <tr>\n",
       "      <th>2</th>\n",
       "      <td>$singer-promise-1408-dikis-makinesi</td>\n",
       "      <td>3250</td>\n",
       "      <td>24007830</td>\n",
       "      <td>93587207-69793356-61709320-69793356-54886570-3...</td>\n",
       "      <td>84075686</td>\n",
       "    </tr>\n",
       "    <tr>\n",
       "      <th>3</th>\n",
       "      <td>$arzum-okka-minio-ok004-k-siyah-krom-turk-kahv...</td>\n",
       "      <td>5095</td>\n",
       "      <td>35716940</td>\n",
       "      <td>85796293-24880557-28455230-80909867-80571117-5...</td>\n",
       "      <td>61788184</td>\n",
       "    </tr>\n",
       "    <tr>\n",
       "      <th>4</th>\n",
       "      <td>$stilevs-tosthane-tost-makinesi</td>\n",
       "      <td>208</td>\n",
       "      <td>41215455</td>\n",
       "      <td>89633035-85150495-85157304-84880872-84877319-8...</td>\n",
       "      <td>54034471</td>\n",
       "    </tr>\n",
       "  </tbody>\n",
       "</table>\n",
       "</div>"
      ],
      "text/plain": [
       "                                        firstProduct  categoryIdOfFirst  \\\n",
       "0             $arcelik-k-3190-p-telve-kahve-makinesi               5095   \n",
       "1         $dyson-v8-absolute-kablosuz-sarjli-supurge                249   \n",
       "2                $singer-promise-1408-dikis-makinesi               3250   \n",
       "3  $arzum-okka-minio-ok004-k-siyah-krom-turk-kahv...               5095   \n",
       "4                    $stilevs-tosthane-tost-makinesi                208   \n",
       "\n",
       "   productId                                      productImages  \\\n",
       "0     989795  76212232-76227573-76052657-75830462-74982570-7...   \n",
       "1   39294277  60996879-69580293-90079988-85103634-84898701-7...   \n",
       "2   24007830  93587207-69793356-61709320-69793356-54886570-3...   \n",
       "3   35716940  85796293-24880557-28455230-80909867-80571117-5...   \n",
       "4   41215455  89633035-85150495-85157304-84880872-84877319-8...   \n",
       "\n",
       "                  offerImages  \n",
       "0  83570223-83545479-77693833  \n",
       "1                    22315286  \n",
       "2                    84075686  \n",
       "3                    61788184  \n",
       "4                    54034471  "
      ]
     },
     "execution_count": 41,
     "metadata": {},
     "output_type": "execute_result"
    }
   ],
   "source": [
    "df.head()"
   ]
  },
  {
   "cell_type": "code",
   "execution_count": 12,
   "metadata": {},
   "outputs": [
    {
     "data": {
      "text/plain": [
       "firstProduct         740919\n",
       "categoryIdOfFirst    740919\n",
       "productId            740919\n",
       "productImages        740919\n",
       "offerImages          740919\n",
       "dtype: int64"
      ]
     },
     "execution_count": 12,
     "metadata": {},
     "output_type": "execute_result"
    }
   ],
   "source": [
    "df.count()"
   ]
  },
  {
   "cell_type": "code",
   "execution_count": 36,
   "metadata": {},
   "outputs": [
    {
     "name": "stderr",
     "output_type": "stream",
     "text": [
      "/usr/lib/python3.6/site-packages/ipykernel_launcher.py:1: UserWarning: This pattern has match groups. To actually get the groups, use str.extract.\n",
      "  \"\"\"Entry point for launching an IPython kernel.\n"
     ]
    }
   ],
   "source": [
    "df_fashion = df.loc[df.firstProduct.str.contains('(gozluk|takim|kolye|kupe|bilezik|bere|atki|sapka|pijama|corap|cizme|kemer|kulaklik|eldiven|sal|sort|mont|bandana|polar|fular|esarp|yelek|gomlek|sweatshirt|ceket|pardesu|palto|saat|ayakkabi|t-shirt|elbise|canta|bluz|pantalon|jean|etek|kolye)', regex=True)]"
   ]
  },
  {
   "cell_type": "code",
   "execution_count": 34,
   "metadata": {},
   "outputs": [
    {
     "data": {
      "text/plain": [
       "firstProduct         283346\n",
       "categoryIdOfFirst    283346\n",
       "productId            283346\n",
       "productImages        283346\n",
       "offerImages          283346\n",
       "dtype: int64"
      ]
     },
     "execution_count": 34,
     "metadata": {},
     "output_type": "execute_result"
    }
   ],
   "source": [
    "df_fashion.count()"
   ]
  },
  {
   "cell_type": "code",
   "execution_count": 37,
   "metadata": {},
   "outputs": [],
   "source": [
    "fashion_categories = df_fashion.categoryIdOfFirst.unique()"
   ]
  },
  {
   "cell_type": "code",
   "execution_count": 39,
   "metadata": {},
   "outputs": [
    {
     "data": {
      "text/plain": [
       "firstProduct         639479\n",
       "categoryIdOfFirst    639479\n",
       "productId            639479\n",
       "productImages        639479\n",
       "offerImages          639479\n",
       "dtype: int64"
      ]
     },
     "execution_count": 39,
     "metadata": {},
     "output_type": "execute_result"
    }
   ],
   "source": [
    "df.loc[df.categoryIdOfFirst.isin(fashion_categories)].count()"
   ]
  },
  {
   "cell_type": "code",
   "execution_count": null,
   "metadata": {},
   "outputs": [],
   "source": []
  }
 ],
 "metadata": {
  "kernelspec": {
   "display_name": "Python 3",
   "language": "python",
   "name": "python3"
  },
  "language_info": {
   "codemirror_mode": {
    "name": "ipython",
    "version": 3
   },
   "file_extension": ".py",
   "mimetype": "text/x-python",
   "name": "python",
   "nbconvert_exporter": "python",
   "pygments_lexer": "ipython3",
   "version": "3.6.5"
  }
 },
 "nbformat": 4,
 "nbformat_minor": 1
}
