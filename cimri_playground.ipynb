{
 "cells": [
  {
   "cell_type": "code",
   "execution_count": 1,
   "metadata": {},
   "outputs": [
    {
     "name": "stderr",
     "output_type": "stream",
     "text": [
      "2019-06-19 12:42:41,861 : INFO : Checking directories...\n",
      "2019-06-19 12:42:41,862 : INFO : Directories are set.\n"
     ]
    }
   ],
   "source": [
    "%matplotlib inline\n",
    "import random\n",
    "from PIL import Image\n",
    "import imagehash\n",
    "import pandas as pd\n",
    "import os \n",
    "from tqdm import tqdm, tqdm_notebook\n",
    "from commons.config import CIMRI_CSV, IMAGE_DOWNLOAD_PATH\n",
    "import glob\n",
    "from functools import reduce #python 3\n"
   ]
  },
  {
   "cell_type": "code",
   "execution_count": 2,
   "metadata": {},
   "outputs": [],
   "source": [
    "df = pd.read_csv(CIMRI_CSV)"
   ]
  },
  {
   "cell_type": "code",
   "execution_count": 3,
   "metadata": {},
   "outputs": [
    {
     "data": {
      "text/plain": [
       "Unnamed: 0           786103\n",
       "firstProduct         786103\n",
       "secondProduct        786103\n",
       "isSame               786103\n",
       "categoryIdOfFirst    786103\n",
       "productId            786103\n",
       "offerId              786103\n",
       "productImages        786103\n",
       "offerImages          786103\n",
       "dtype: int64"
      ]
     },
     "execution_count": 3,
     "metadata": {},
     "output_type": "execute_result"
    }
   ],
   "source": [
    "df.count()"
   ]
  },
  {
   "cell_type": "code",
   "execution_count": 4,
   "metadata": {},
   "outputs": [
    {
     "data": {
      "text/plain": [
       "45184"
      ]
     },
     "execution_count": 4,
     "metadata": {},
     "output_type": "execute_result"
    }
   ],
   "source": [
    "len(df.loc[df.isSame == 0])"
   ]
  },
  {
   "cell_type": "code",
   "execution_count": 5,
   "metadata": {},
   "outputs": [],
   "source": [
    "df_negatives = df.loc[df.isSame == 0]"
   ]
  },
  {
   "cell_type": "code",
   "execution_count": 6,
   "metadata": {},
   "outputs": [],
   "source": [
    "images_list = glob.glob(\"{0}*.jpg\".format(IMAGE_DOWNLOAD_PATH))\n",
    "images_list = [int(x.split('/')[-1].replace('.jpg', '')) for x in images_list]"
   ]
  },
  {
   "cell_type": "code",
   "execution_count": 7,
   "metadata": {},
   "outputs": [
    {
     "data": {
      "text/plain": [
       "993244"
      ]
     },
     "execution_count": 7,
     "metadata": {},
     "output_type": "execute_result"
    }
   ],
   "source": [
    "images_list = set(images_list)\n",
    "len(images_list)"
   ]
  },
  {
   "cell_type": "code",
   "execution_count": 8,
   "metadata": {},
   "outputs": [
    {
     "data": {
      "text/plain": [
       "90177536"
      ]
     },
     "execution_count": 8,
     "metadata": {},
     "output_type": "execute_result"
    }
   ],
   "source": [
    "next(iter(images_list))"
   ]
  },
  {
   "cell_type": "code",
   "execution_count": 9,
   "metadata": {},
   "outputs": [],
   "source": [
    "def does_image_exists(img_id):\n",
    "    return int(img_id) in images_list"
   ]
  },
  {
   "cell_type": "code",
   "execution_count": 10,
   "metadata": {},
   "outputs": [],
   "source": [
    "def available_image_count(row):\n",
    "    product = len([x for x in row['productImages'].split('-') if does_image_exists(x)])\n",
    "    offer = len([x for x in row['offerImages'].split('-') if does_image_exists(x)])\n",
    "    return product + offer"
   ]
  },
  {
   "cell_type": "code",
   "execution_count": 11,
   "metadata": {},
   "outputs": [
    {
     "name": "stderr",
     "output_type": "stream",
     "text": [
      "Counting available images.: 100%|██████████| 45184/45184 [00:01<00:00, 43286.02it/s]\n",
      "/usr/lib/python3.6/site-packages/ipykernel_launcher.py:2: SettingWithCopyWarning: \n",
      "A value is trying to be set on a copy of a slice from a DataFrame.\n",
      "Try using .loc[row_indexer,col_indexer] = value instead\n",
      "\n",
      "See the caveats in the documentation: http://pandas.pydata.org/pandas-docs/stable/indexing.html#indexing-view-versus-copy\n",
      "  \n"
     ]
    }
   ],
   "source": [
    "tqdm.pandas(desc = 'Counting available images.')\n",
    "df_negatives['image_count'] = df_negatives.progress_apply(lambda row: available_image_count(row), axis =1 ) "
   ]
  },
  {
   "cell_type": "code",
   "execution_count": 12,
   "metadata": {},
   "outputs": [
    {
     "data": {
      "text/plain": [
       "<matplotlib.axes._subplots.AxesSubplot at 0x7f6792152780>"
      ]
     },
     "execution_count": 12,
     "metadata": {},
     "output_type": "execute_result"
    },
    {
     "data": {
      "image/png": "[encoded data removed]",
      "text/plain": [
       "<Figure size 432x288 with 1 Axes>"
      ]
     },
     "metadata": {
      "needs_background": "light"
     },
     "output_type": "display_data"
    }
   ],
   "source": [
    "df_negatives.loc[df_negatives.image_count >= 2].image_count.hist(bins=20)"
   ]
  },
  {
   "cell_type": "code",
   "execution_count": 13,
   "metadata": {},
   "outputs": [
    {
     "data": {
      "text/plain": [
       "Unnamed: 0           35568\n",
       "firstProduct         35568\n",
       "secondProduct        35568\n",
       "isSame               35568\n",
       "categoryIdOfFirst    35568\n",
       "productId            35568\n",
       "offerId              35568\n",
       "productImages        35568\n",
       "offerImages          35568\n",
       "image_count          35568\n",
       "dtype: int64"
      ]
     },
     "execution_count": 13,
     "metadata": {},
     "output_type": "execute_result"
    }
   ],
   "source": [
    "df_negatives.loc[df_negatives.image_count >= 2].count()"
   ]
  },
  {
   "cell_type": "code",
   "execution_count": 14,
   "metadata": {},
   "outputs": [
    {
     "name": "stderr",
     "output_type": "stream",
     "text": [
      "Counting available images.: 100%|██████████| 786103/786103 [00:17<00:00, 44825.14it/s]\n"
     ]
    }
   ],
   "source": [
    "tqdm.pandas(desc = 'Counting available images.')\n",
    "df['image_count'] = df.progress_apply(lambda row: available_image_count(row), axis = 1) "
   ]
  },
  {
   "cell_type": "code",
   "execution_count": 15,
   "metadata": {},
   "outputs": [],
   "source": [
    "df = df.loc[df.image_count >= 4]"
   ]
  },
  {
   "cell_type": "code",
   "execution_count": 16,
   "metadata": {},
   "outputs": [
    {
     "data": {
      "text/plain": [
       "<matplotlib.axes._subplots.AxesSubplot at 0x7f6788652dd8>"
      ]
     },
     "execution_count": 16,
     "metadata": {},
     "output_type": "execute_result"
    },
    {
     "data": {
      "image/png": "[encoded data removed]",
      "text/plain": [
       "<Figure size 432x288 with 1 Axes>"
      ]
     },
     "metadata": {
      "needs_background": "light"
     },
     "output_type": "display_data"
    }
   ],
   "source": [
    "df.isSame.hist(bins=2)"
   ]
  },
  {
   "cell_type": "code",
   "execution_count": 17,
   "metadata": {},
   "outputs": [],
   "source": [
    "product_ids = df.productId.unique().tolist()"
   ]
  },
  {
   "cell_type": "code",
   "execution_count": 18,
   "metadata": {},
   "outputs": [
    {
     "data": {
      "text/plain": [
       "184315"
      ]
     },
     "execution_count": 18,
     "metadata": {},
     "output_type": "execute_result"
    }
   ],
   "source": [
    "len(product_ids)"
   ]
  },
  {
   "cell_type": "code",
   "execution_count": 19,
   "metadata": {},
   "outputs": [],
   "source": [
    "def find_duplicate_images(images):\n",
    "    img_to_delete = []\n",
    "    hashes = []\n",
    "    for img in images:\n",
    "        h = imagehash.average_hash(Image.open(IMAGE_DOWNLOAD_PATH + img + '.jpg'))\n",
    "        if h in hashes:\n",
    "            img_to_delete.append(img)\n",
    "        else:\n",
    "            hashes.append(h)\n",
    "    return img_to_delete"
   ]
  },
  {
   "cell_type": "code",
   "execution_count": 20,
   "metadata": {},
   "outputs": [
    {
     "data": {
      "application/vnd.jupyter.widget-view+json": {
       "model_id": "0e211a9269ba459c845e93d4761caa3c",
       "version_major": 2,
       "version_minor": 0
      },
      "text/plain": [
       "HBox(children=(IntProgress(value=0, description='Generating image triplets', max=50, style=ProgressStyle(descr…"
      ]
     },
     "metadata": {},
     "output_type": "display_data"
    },
    {
     "name": "stdout",
     "output_type": "stream",
     "text": [
      "\n"
     ]
    }
   ],
   "source": [
    "data_set = []\n",
    "for product_id in tqdm_notebook(product_ids[:50], desc = 'Generating image triplets'):\n",
    "    try:\n",
    "         # Find images\n",
    "        original = df.loc[df.productId == product_id].head().productImages.tolist()\n",
    "        neg = df.loc[df.productId == product_id].loc[df.isSame == 0].offerImages.tolist()\n",
    "        pos = df.loc[df.productId == product_id].loc[df.isSame == 1].offerImages.tolist()\n",
    "\n",
    "        # Parse image columns\n",
    "        original = [imgs.split('-') for imgs in original]\n",
    "        neg = [imgs.split('-') for imgs in neg]\n",
    "        pos = [imgs.split('-') for imgs in pos]\n",
    "\n",
    "        if len(original) == 0 or len(neg) == 0 or len(pos) == 0:\n",
    "            continue\n",
    "\n",
    "        # Omit duplicate ids\n",
    "        original = list(set(reduce(lambda x,y: x + y, original)))\n",
    "        neg = list(set(reduce(lambda x,y: x + y, neg)))\n",
    "        pos = list(set(reduce(lambda x,y: x + y, pos)))\n",
    "\n",
    "        # Leave only available images\n",
    "        original = [img for img in original if does_image_exists(img)]\n",
    "        neg = [img for img in neg if does_image_exists(img)]\n",
    "        pos = [img for img in pos if does_image_exists(img)]\n",
    "\n",
    "        # Delete duplicate images\n",
    "        images_to_del = find_duplicate_images(neg + pos + original)\n",
    "\n",
    "        original = [img for img in original if img not in images_to_del]\n",
    "        pos = [img for img in pos if img not in images_to_del]\n",
    "        neg = [img for img in neg if img not in images_to_del]\n",
    "\n",
    "        # Create triplets\n",
    "        if len(neg) > 0 and len(pos) > 0 and len(original) > 0:\n",
    "            min_size = min(len(neg), len(pos), len(original))\n",
    "            pos = random.sample(pos, min_size)\n",
    "            neg = random.sample(neg, min_size)\n",
    "            original = random.sample(original, min_size)\n",
    "            for p, n, o in zip(pos, neg, original):\n",
    "                data_set.append([o, p, n])\n",
    "    except Exception as exp:\n",
    "        print(exp)"
   ]
  },
  {
   "cell_type": "code",
   "execution_count": 27,
   "metadata": {},
   "outputs": [
    {
     "data": {
      "image/jpeg": "[encoded data removed]",
      "text/plain": [
       "<IPython.core.display.Image object>"
      ]
     },
     "metadata": {
      "image/jpeg": {
       "unconfined": true
      }
     },
     "output_type": "display_data"
    },
    {
     "name": "stdout",
     "output_type": "stream",
     "text": [
      "original\n"
     ]
    },
    {
     "data": {
      "image/jpeg": "[encoded data removed]",
      "text/plain": [
       "<IPython.core.display.Image object>"
      ]
     },
     "metadata": {
      "image/jpeg": {
       "unconfined": true
      }
     },
     "output_type": "display_data"
    },
    {
     "name": "stdout",
     "output_type": "stream",
     "text": [
      "positive\n"
     ]
    },
    {
     "data": {
      "image/jpeg": "[encoded data removed]",
      "text/plain": [
       "<IPython.core.display.Image object>"
      ]
     },
     "metadata": {
      "image/jpeg": {
       "unconfined": true
      }
     },
     "output_type": "display_data"
    },
    {
     "name": "stdout",
     "output_type": "stream",
     "text": [
      "anchor\n"
     ]
    }
   ],
   "source": [
    "from IPython.core.display import Image, display\n",
    "for name, img in zip(['original', 'positive', 'anchor'], random.sample(data_set, 1)[0]):\n",
    "    url = \"https://cdn.cimri.io/image/{0}x{0}/asdf_{1}.jpg\".format(128, img)\n",
    "    display(Image(url, unconfined=True))\n",
    "    print(name)"
   ]
  },
  {
   "cell_type": "code",
   "execution_count": null,
   "metadata": {},
   "outputs": [],
   "source": []
  }
 ],
 "metadata": {
  "kernelspec": {
   "display_name": "Python 3",
   "language": "python",
   "name": "python3"
  },
  "language_info": {
   "codemirror_mode": {
    "name": "ipython",
    "version": 3
   },
   "file_extension": ".py",
   "mimetype": "text/x-python",
   "name": "python",
   "nbconvert_exporter": "python",
   "pygments_lexer": "ipython3",
   "version": "3.6.5"
  }
 },
 "nbformat": 4,
 "nbformat_minor": 2
}
